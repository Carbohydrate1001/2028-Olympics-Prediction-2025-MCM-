{
 "cells": [
  {
   "cell_type": "code",
   "execution_count": null,
   "id": "initial_id",
   "metadata": {
    "collapsed": true
   },
   "outputs": [],
   "source": [
    "\"\"\"import pandas as pd\n",
    "\n",
    "# 读取CSV文件\n",
    "df = pd.read_csv('./data/US_volleyball_athletes.csv')\n",
    "\n",
    "# 奖牌赋分\n",
    "medal_scores = {'Gold': 5, 'Silver': 3, 'Bronze': 1, 'No medal': 0}\n",
    "df['Score'] = df['Medal'].map(medal_scores)\n",
    "\n",
    "# 初始化Scoring列为0\n",
    "df['Scoring'] = 0\n",
    "\n",
    "# 按年份和运动员计算得分\n",
    "for year in df['Year'].unique():\n",
    "    if year == 1984:\n",
    "        # 1984年：直接使用当年的分数\n",
    "        df.loc[df['Year'] == year, 'Scoring'] = df.loc[df['Year'] == year, 'Score']\n",
    "    elif year == 1988:\n",
    "        # 1988年：1984年 + 1988年\n",
    "        for name in df['Name'].unique():\n",
    "            score_1984 = df[(df['Name'] == name) & (df['Year'] == 1984)]['Score'].sum()\n",
    "            score_1988 = df[(df['Name'] == name) & (df['Year'] == 1988)]['Score'].sum()\n",
    "            df.loc[(df['Name'] == name) & (df['Year'] == 1988), 'Scoring'] = score_1984 + score_1988\n",
    "    elif year == 1992:\n",
    "        # 1992年：1984年 + 1988年 + 1992年\n",
    "        for name in df['Name'].unique():\n",
    "            score_1984 = df[(df['Name'] == name) & (df['Year'] == 1984)]['Score'].sum()\n",
    "            score_1988 = df[(df['Name'] == name) & (df['Year'] == 1988)]['Score'].sum()\n",
    "            score_1992 = df[(df['Name'] == name) & (df['Year'] == 1992)]['Score'].sum()\n",
    "            df.loc[(df['Name'] == name) & (df['Year'] == 1992), 'Scoring'] = score_1984 + score_1988 + score_1992\n",
    "    else:\n",
    "        # 1996年及以后：前三年（滑动窗口）\n",
    "        for name in df['Name'].unique():\n",
    "            score_prev1 = df[(df['Name'] == name) & (df['Year'] == year - 4)]['Score'].sum()\n",
    "            score_prev2 = df[(df['Name'] == name) & (df['Year'] == year - 8)]['Score'].sum()\n",
    "            score_current = df[(df['Name'] == name) & (df['Year'] == year)]['Score'].sum()\n",
    "            df.loc[(df['Name'] == name) & (df['Year'] == year), 'Scoring'] = score_prev1 + score_prev2 + score_current\n",
    "\n",
    "# 将ExperienceScoring列的数据类型转换为float64\n",
    "df['ExperienceScoring'] = df['ExperienceScoring'].astype(float)\n",
    "\n",
    "# 按运动员和年份计算ExperienceScoring\n",
    "for name in df['Name'].unique():\n",
    "    # 获取该运动员的所有参赛记录，按年份排序\n",
    "    athlete_df = df[df['Name'] == name].sort_values(by='Year')\n",
    "    \n",
    "    # 初始化参赛次数\n",
    "    experience_count = 0\n",
    "    \n",
    "    # 遍历该运动员的每一条记录\n",
    "    for index, row in athlete_df.iterrows():\n",
    "        experience_count += 1  # 每次参赛加1\n",
    "        df.loc[index, 'ExperienceScoring'] = experience_count * 0.5  # 计算ExperienceScoring\n",
    "\n",
    "# 删除临时列Score\n",
    "df.drop(columns=['Score'], inplace=True)\n",
    "\n",
    "# 输出结果\n",
    "print(df)\n",
    "\n",
    "# 保存更新后的数据到原文件（如果需要）\n",
    "df.to_csv('./data/US_volleyball_athletes_scores.csv', index=False)\"\"\""
   ]
  },
  {
   "metadata": {
    "ExecuteTime": {
     "end_time": "2025-01-27T06:37:36.158618Z",
     "start_time": "2025-01-27T06:37:34.376893Z"
    }
   },
   "cell_type": "code",
   "source": [
    "import pandas as pd\n",
    "\n",
    "# 读取数据\n",
    "data = pd.read_csv('./data/CoachEffect/Question2_ToPredict.csv')\n",
    "\n",
    "# 按 Name 和 Year 排序，确保数据按年份升序排列\n",
    "data = data.sort_values(by=['Name', 'Year'])\n",
    "\n",
    "# 使用 shift 方法将上一届的 Scoring_Current 赋值给下一届的 Scoring_Last4\n",
    "data['Scoring_Last4'] = data.groupby('Name')['Scoring_Current'].shift()\n",
    "\n",
    "# 将所有缺失值（空格）赋值为 0\n",
    "data = data.fillna(0)\n",
    "\n",
    "\"\"\"# 按照 Name 和 Year 分组，对数值列求和\n",
    "# 假设需要求和的列是 Scoring_Current 和 Scoring_Last4\n",
    "data = data.groupby(['Name', 'Year'], as_index=False).agg({\n",
    "    'Scoring_Current': 'sum',  # 对 Scoring_Current 求和\n",
    "    'Scoring_Last4': 'sum',    # 对 Scoring_Last4 求和\n",
    "    'NOC': 'first',\n",
    "    'isCoached': 'first',\n",
    "    'ExperienceScoring': 'first'\n",
    "})\"\"\"\n",
    "\n",
    "# 导出结果到新的 CSV 文件\n",
    "data.to_csv('./data/TemperScores_Processed.csv', index=False)\n",
    "\n",
    "print(\"数据处理完成，结果已导出到 './data/TemperScores_Processed.csv'\")"
   ],
   "id": "c4253816ab08a738",
   "outputs": [
    {
     "ename": "KeyError",
     "evalue": "'Name'",
     "output_type": "error",
     "traceback": [
      "\u001B[1;31m---------------------------------------------------------------------------\u001B[0m",
      "\u001B[1;31mKeyError\u001B[0m                                  Traceback (most recent call last)",
      "Cell \u001B[1;32mIn[1], line 7\u001B[0m\n\u001B[0;32m      4\u001B[0m data \u001B[38;5;241m=\u001B[39m pd\u001B[38;5;241m.\u001B[39mread_csv(\u001B[38;5;124m'\u001B[39m\u001B[38;5;124m./data/CoachEffect/Question2_ToPredict.csv\u001B[39m\u001B[38;5;124m'\u001B[39m)\n\u001B[0;32m      6\u001B[0m \u001B[38;5;66;03m# 按 Name 和 Year 排序，确保数据按年份升序排列\u001B[39;00m\n\u001B[1;32m----> 7\u001B[0m data \u001B[38;5;241m=\u001B[39m data\u001B[38;5;241m.\u001B[39msort_values(by\u001B[38;5;241m=\u001B[39m[\u001B[38;5;124m'\u001B[39m\u001B[38;5;124mName\u001B[39m\u001B[38;5;124m'\u001B[39m, \u001B[38;5;124m'\u001B[39m\u001B[38;5;124mYear\u001B[39m\u001B[38;5;124m'\u001B[39m])\n\u001B[0;32m      9\u001B[0m \u001B[38;5;66;03m# 使用 shift 方法将上一届的 Scoring_Current 赋值给下一届的 Scoring_Last4\u001B[39;00m\n\u001B[0;32m     10\u001B[0m data[\u001B[38;5;124m'\u001B[39m\u001B[38;5;124mScoring_Last4\u001B[39m\u001B[38;5;124m'\u001B[39m] \u001B[38;5;241m=\u001B[39m data\u001B[38;5;241m.\u001B[39mgroupby(\u001B[38;5;124m'\u001B[39m\u001B[38;5;124mName\u001B[39m\u001B[38;5;124m'\u001B[39m)[\u001B[38;5;124m'\u001B[39m\u001B[38;5;124mScoring_Current\u001B[39m\u001B[38;5;124m'\u001B[39m]\u001B[38;5;241m.\u001B[39mshift()\n",
      "File \u001B[1;32mD:\\Anaconda\\Lib\\site-packages\\pandas\\core\\frame.py:7172\u001B[0m, in \u001B[0;36mDataFrame.sort_values\u001B[1;34m(self, by, axis, ascending, inplace, kind, na_position, ignore_index, key)\u001B[0m\n\u001B[0;32m   7167\u001B[0m     \u001B[38;5;28;01mraise\u001B[39;00m \u001B[38;5;167;01mValueError\u001B[39;00m(\n\u001B[0;32m   7168\u001B[0m         \u001B[38;5;124mf\u001B[39m\u001B[38;5;124m\"\u001B[39m\u001B[38;5;124mLength of ascending (\u001B[39m\u001B[38;5;132;01m{\u001B[39;00m\u001B[38;5;28mlen\u001B[39m(ascending)\u001B[38;5;132;01m}\u001B[39;00m\u001B[38;5;124m)\u001B[39m\u001B[38;5;124m\"\u001B[39m  \u001B[38;5;66;03m# type: ignore[arg-type]\u001B[39;00m\n\u001B[0;32m   7169\u001B[0m         \u001B[38;5;124mf\u001B[39m\u001B[38;5;124m\"\u001B[39m\u001B[38;5;124m != length of by (\u001B[39m\u001B[38;5;132;01m{\u001B[39;00m\u001B[38;5;28mlen\u001B[39m(by)\u001B[38;5;132;01m}\u001B[39;00m\u001B[38;5;124m)\u001B[39m\u001B[38;5;124m\"\u001B[39m\n\u001B[0;32m   7170\u001B[0m     )\n\u001B[0;32m   7171\u001B[0m \u001B[38;5;28;01mif\u001B[39;00m \u001B[38;5;28mlen\u001B[39m(by) \u001B[38;5;241m>\u001B[39m \u001B[38;5;241m1\u001B[39m:\n\u001B[1;32m-> 7172\u001B[0m     keys \u001B[38;5;241m=\u001B[39m [\u001B[38;5;28mself\u001B[39m\u001B[38;5;241m.\u001B[39m_get_label_or_level_values(x, axis\u001B[38;5;241m=\u001B[39maxis) \u001B[38;5;28;01mfor\u001B[39;00m x \u001B[38;5;129;01min\u001B[39;00m by]\n\u001B[0;32m   7174\u001B[0m     \u001B[38;5;66;03m# need to rewrap columns in Series to apply key function\u001B[39;00m\n\u001B[0;32m   7175\u001B[0m     \u001B[38;5;28;01mif\u001B[39;00m key \u001B[38;5;129;01mis\u001B[39;00m \u001B[38;5;129;01mnot\u001B[39;00m \u001B[38;5;28;01mNone\u001B[39;00m:\n\u001B[0;32m   7176\u001B[0m         \u001B[38;5;66;03m# error: List comprehension has incompatible type List[Series];\u001B[39;00m\n\u001B[0;32m   7177\u001B[0m         \u001B[38;5;66;03m# expected List[ndarray]\u001B[39;00m\n",
      "File \u001B[1;32mD:\\Anaconda\\Lib\\site-packages\\pandas\\core\\generic.py:1911\u001B[0m, in \u001B[0;36mNDFrame._get_label_or_level_values\u001B[1;34m(self, key, axis)\u001B[0m\n\u001B[0;32m   1909\u001B[0m     values \u001B[38;5;241m=\u001B[39m \u001B[38;5;28mself\u001B[39m\u001B[38;5;241m.\u001B[39maxes[axis]\u001B[38;5;241m.\u001B[39mget_level_values(key)\u001B[38;5;241m.\u001B[39m_values\n\u001B[0;32m   1910\u001B[0m \u001B[38;5;28;01melse\u001B[39;00m:\n\u001B[1;32m-> 1911\u001B[0m     \u001B[38;5;28;01mraise\u001B[39;00m \u001B[38;5;167;01mKeyError\u001B[39;00m(key)\n\u001B[0;32m   1913\u001B[0m \u001B[38;5;66;03m# Check for duplicates\u001B[39;00m\n\u001B[0;32m   1914\u001B[0m \u001B[38;5;28;01mif\u001B[39;00m values\u001B[38;5;241m.\u001B[39mndim \u001B[38;5;241m>\u001B[39m \u001B[38;5;241m1\u001B[39m:\n",
      "\u001B[1;31mKeyError\u001B[0m: 'Name'"
     ]
    }
   ],
   "execution_count": 1
  },
  {
   "metadata": {
    "ExecuteTime": {
     "end_time": "2025-01-27T11:00:33.837165Z",
     "start_time": "2025-01-27T11:00:33.651055Z"
    }
   },
   "cell_type": "code",
   "source": [
    "import pandas as pd\n",
    "\n",
    "# 读取预测结果 CSV 文件\n",
    "df_predictions = pd.read_csv('Predicted_Results.csv')\n",
    "\n",
    "# 按照 Country 和 Sport 分组，计算 Original_Prediction 的求和\n",
    "df_grouped = df_predictions.groupby(['Country', 'Sport'], as_index=False)['Original_Prediction'].sum()\n",
    "\n",
    "# 保存结果到新的 CSV 文件\n",
    "df_grouped.to_csv('Q2_Prediction.csv', index=False)\n",
    "\n",
    "print(\"Grouped prediction results saved to 'Grouped_Predicted_Results.csv'.\")"
   ],
   "id": "1ce69c36a9eed632",
   "outputs": [
    {
     "data": {
      "text/plain": [
       "<Figure size 640x480 with 1 Axes>"
      ],
      "image/png": "[encoded data removed]"
     },
     "metadata": {},
     "output_type": "display_data"
    }
   ],
   "execution_count": 15
  }
 ],
 "metadata": {
  "kernelspec": {
   "display_name": "Python 3",
   "language": "python",
   "name": "python3"
  },
  "language_info": {
   "codemirror_mode": {
    "name": "ipython",
    "version": 2
   },
   "file_extension": ".py",
   "mimetype": "text/x-python",
   "name": "python",
   "nbconvert_exporter": "python",
   "pygments_lexer": "ipython2",
   "version": "2.7.6"
  }
 },
 "nbformat": 4,
 "nbformat_minor": 5
}
